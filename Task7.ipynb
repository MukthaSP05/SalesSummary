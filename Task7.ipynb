{
 "cells": [
  {
   "cell_type": "code",
   "execution_count": 1,
   "id": "0d800756-fa6d-469c-a812-1aa0874b71ec",
   "metadata": {},
   "outputs": [],
   "source": [
    "import sqlite3\n",
    "import pandas as pd\n",
    "import matplotlib.pyplot as plt\n",
    "\n",
    "# Connect to SQLite database\n",
    "conn = sqlite3.connect(\"sales_data.db\")\n",
    "cursor = conn.cursor()\n"
   ]
  },
  {
   "cell_type": "code",
   "execution_count": 2,
   "id": "52994b66-3bf6-435f-b9ca-f7dfd429497e",
   "metadata": {},
   "outputs": [],
   "source": [
    "cursor.execute('''\n",
    "CREATE TABLE IF NOT EXISTS sales (\n",
    "    id INTEGER PRIMARY KEY AUTOINCREMENT,\n",
    "    product TEXT,\n",
    "    quantity INTEGER,\n",
    "    price REAL\n",
    ")\n",
    "''')\n",
    "conn.commit()\n"
   ]
  },
  {
   "cell_type": "code",
   "execution_count": 3,
   "id": "adf88471-b2af-4933-9130-7e0a74867695",
   "metadata": {},
   "outputs": [],
   "source": [
    "def add_sale(product, quantity, price):\n",
    "    cursor.execute(\n",
    "        \"INSERT INTO sales (product, quantity, price) VALUES (?, ?, ?)\",\n",
    "        (product, quantity, price)\n",
    "    )\n",
    "    conn.commit()\n",
    "    print(f\"Added sale: {product}, Quantity: {quantity}, Price: {price}\")\n"
   ]
  },
  {
   "cell_type": "code",
   "execution_count": 4,
   "id": "60ef8532-3c47-4068-8bd6-6d9b5c8934cd",
   "metadata": {},
   "outputs": [],
   "source": [
    "def view_summary():\n",
    "    query = \"\"\"\n",
    "    SELECT \n",
    "        product, \n",
    "        SUM(quantity) AS total_quantity, \n",
    "        SUM(quantity * price) AS total_revenue\n",
    "    FROM sales\n",
    "    GROUP BY product\n",
    "    \"\"\"\n",
    "    df = pd.read_sql_query(query, conn)\n",
    "    print(\"Sales Summary:\")\n",
    "    display(df)  # Jupyter-friendly display\n",
    "    return df\n"
   ]
  },
  {
   "cell_type": "code",
   "execution_count": 5,
   "id": "d4df4292-2406-4c94-92d9-cc29ac84c3a1",
   "metadata": {},
   "outputs": [],
   "source": [
    "def plot_revenue(df):\n",
    "    df.plot(kind='bar', x='product', y='total_revenue', legend=False, color='skyblue')\n",
    "    plt.title(\"Revenue per Product\")\n",
    "    plt.xlabel(\"Product\")\n",
    "    plt.ylabel(\"Revenue\")\n",
    "    plt.tight_layout()\n",
    "    plt.show()\n"
   ]
  },
  {
   "cell_type": "code",
   "execution_count": 6,
   "id": "3b03a7b4-65a9-4419-a073-87aa938f7b40",
   "metadata": {},
   "outputs": [],
   "source": [
    "sample_data = [\n",
    "    ('Apple', 10, 0.5),\n",
    "    ('Banana', 20, 0.2),\n",
    "    ('Orange', 15, 0.3)\n",
    "]\n",
    "\n",
    "cursor.execute(\"SELECT COUNT(*) FROM sales\")\n",
    "if cursor.fetchone()[0] == 0:\n",
    "    cursor.executemany(\"INSERT INTO sales (product, quantity, price) VALUES (?, ?, ?)\", sample_data)\n",
    "    conn.commit()\n"
   ]
  },
  {
   "cell_type": "code",
   "execution_count": 7,
   "id": "9c29cb08-35a9-4b45-932c-36135bc80156",
   "metadata": {},
   "outputs": [
    {
     "name": "stdout",
     "output_type": "stream",
     "text": [
      "Added sale: Grapes, Quantity: 12, Price: 0.4\n",
      "Added sale: Apple, Quantity: 8, Price: 0.5\n",
      "Sales Summary:\n"
     ]
    },
    {
     "data": {
      "text/html": [
       "<div>\n",
       "<style scoped>\n",
       "    .dataframe tbody tr th:only-of-type {\n",
       "        vertical-align: middle;\n",
       "    }\n",
       "\n",
       "    .dataframe tbody tr th {\n",
       "        vertical-align: top;\n",
       "    }\n",
       "\n",
       "    .dataframe thead th {\n",
       "        text-align: right;\n",
       "    }\n",
       "</style>\n",
       "<table border=\"1\" class=\"dataframe\">\n",
       "  <thead>\n",
       "    <tr style=\"text-align: right;\">\n",
       "      <th></th>\n",
       "      <th>product</th>\n",
       "      <th>total_quantity</th>\n",
       "      <th>total_revenue</th>\n",
       "    </tr>\n",
       "  </thead>\n",
       "  <tbody>\n",
       "    <tr>\n",
       "      <th>0</th>\n",
       "      <td>Apple</td>\n",
       "      <td>23</td>\n",
       "      <td>11.5</td>\n",
       "    </tr>\n",
       "    <tr>\n",
       "      <th>1</th>\n",
       "      <td>Banana</td>\n",
       "      <td>30</td>\n",
       "      <td>6.0</td>\n",
       "    </tr>\n",
       "    <tr>\n",
       "      <th>2</th>\n",
       "      <td>Grapes</td>\n",
       "      <td>12</td>\n",
       "      <td>4.8</td>\n",
       "    </tr>\n",
       "    <tr>\n",
       "      <th>3</th>\n",
       "      <td>Orange</td>\n",
       "      <td>15</td>\n",
       "      <td>4.5</td>\n",
       "    </tr>\n",
       "  </tbody>\n",
       "</table>\n",
       "</div>"
      ],
      "text/plain": [
       "  product  total_quantity  total_revenue\n",
       "0   Apple              23           11.5\n",
       "1  Banana              30            6.0\n",
       "2  Grapes              12            4.8\n",
       "3  Orange              15            4.5"
      ]
     },
     "metadata": {},
     "output_type": "display_data"
    },
    {
     "data": {
      "image/png": "[encoded data removed]",
      "text/plain": [
       "<Figure size 640x480 with 1 Axes>"
      ]
     },
     "metadata": {},
     "output_type": "display_data"
    }
   ],
   "source": [
    "# Add a new sale\n",
    "add_sale(\"Grapes\", 12, 0.4)\n",
    "add_sale(\"Apple\", 8, 0.5)\n",
    "\n",
    "# View summary\n",
    "df = view_summary()\n",
    "\n",
    "# Plot revenue chart\n",
    "plot_revenue(df)\n"
   ]
  },
  {
   "cell_type": "code",
   "execution_count": 8,
   "id": "2eb6c56b-9f7a-46b8-b243-4eafadc7b21c",
   "metadata": {},
   "outputs": [],
   "source": [
    "conn.close()\n"
   ]
  },
  {
   "cell_type": "code",
   "execution_count": null,
   "id": "0baeccfa-a4ea-4a13-9743-025f4276340b",
   "metadata": {},
   "outputs": [],
   "source": []
  }
 ],
 "metadata": {
  "kernelspec": {
   "display_name": "Python 3 (ipykernel)",
   "language": "python",
   "name": "python3"
  },
  "language_info": {
   "codemirror_mode": {
    "name": "ipython",
    "version": 3
   },
   "file_extension": ".py",
   "mimetype": "text/x-python",
   "name": "python",
   "nbconvert_exporter": "python",
   "pygments_lexer": "ipython3",
   "version": "3.9.13"
  }
 },
 "nbformat": 4,
 "nbformat_minor": 5
}
